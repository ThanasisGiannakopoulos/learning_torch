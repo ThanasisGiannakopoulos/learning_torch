{
 "cells": [
  {
   "cell_type": "markdown",
   "id": "c4ab8d6a",
   "metadata": {},
   "source": [
    "Code taken from **Deep Learning: An Introductionfor Applied Mathematicians** <br>\n",
    "https://epubs.siam.org/doi/10.1137/18M1165748"
   ]
  },
  {
   "cell_type": "code",
   "execution_count": 1,
   "id": "a3238692",
   "metadata": {},
   "outputs": [],
   "source": [
    "import numpy as np\n",
    "from matplotlib import pyplot as plt\n",
    "from time import time"
   ]
  },
  {
   "cell_type": "code",
   "execution_count": 2,
   "id": "82582ea3",
   "metadata": {},
   "outputs": [],
   "source": [
    "def activate(x, W, b):\n",
    "    # x should be of size (input X number of samples)\n",
    "    return 1 / (1 + np.exp(-(np.matmul(W, x) + b)))\n",
    "\n",
    "def cost(W2, W3, W4, b2, b3, b4):\n",
    "    costvec = np.zeros(10)\n",
    "    for i in range(10):\n",
    "        x = x_full[:,i].reshape(input_size,-1)\n",
    "        a2 = activate(x, W2, b2)\n",
    "        a3 = activate(a2, W3, b3)\n",
    "        a4 = activate(a3, W4, b4)\n",
    "        costvec[i] = np.linalg.norm(y[:, i].reshape(input_size,-1) - a4, 2)\n",
    "    return np.linalg.norm(costvec, 2)**2"
   ]
  },
  {
   "cell_type": "code",
   "execution_count": 3,
   "id": "28648066",
   "metadata": {},
   "outputs": [],
   "source": [
    "x1 = np.array([[0.1, 0.3, 0.1, 0.6, 0.4, 0.6, 0.5, 0.9, 0.4, 0.7]])\n",
    "x2 = np.array([[0.1, 0.4, 0.5, 0.9, 0.2, 0.3, 0.6, 0.2, 0.4, 0.6]])\n",
    "y = np.array([[1, 1, 1, 1, 1, 0, 0, 0, 0, 0],\n",
    "              [0, 0, 0, 0, 0, 1, 1, 1, 1, 1]])\n"
   ]
  },
  {
   "cell_type": "code",
   "execution_count": 4,
   "id": "3e487ef6",
   "metadata": {},
   "outputs": [
    {
     "name": "stdout",
     "output_type": "stream",
     "text": [
      "[[0.1 0.3 0.1 0.6 0.4 0.6 0.5 0.9 0.4 0.7]\n",
      " [0.1 0.4 0.5 0.9 0.2 0.3 0.6 0.2 0.4 0.6]]\n"
     ]
    }
   ],
   "source": [
    "x_full = np.concatenate((x1,x2),axis=0)\n",
    "print(x_full)"
   ]
  },
  {
   "cell_type": "code",
   "execution_count": 5,
   "id": "b6bf4c2c",
   "metadata": {},
   "outputs": [],
   "source": [
    "#np.random.seed(5000)\n",
    "#W2 = 0.5 * np.random.randn(2, 2)\n",
    "#W3 = 0.5 * np.random.randn(3, 2)\n",
    "#W4 = 0.5 * np.random.randn(2, 3)\n",
    "#b2 = 0.5 * np.random.randn(2, 1)\n",
    "#b3 = 0.5 * np.random.randn(3, 1)\n",
    "#b4 = 0.5 * np.random.randn(2, 1)\n",
    "\n",
    "W2 = 0.5*np.array([[.1, .2], [.3, .4]])\n",
    "W3 = 0.5*np.array([[-.1, .2], [-.3, .4], [.5, -.6]])\n",
    "W4 = 0.5*np.array([[.1, -.2, .3], [-.4, -.5, .6]])\n",
    "b2 = 0.5 * np.zeros((2, 1))\n",
    "b3 = 0.5 * np.zeros((3, 1))\n",
    "b4 = 0.5 * np.zeros((2, 1))"
   ]
  },
  {
   "cell_type": "code",
   "execution_count": 6,
   "id": "993857df",
   "metadata": {},
   "outputs": [],
   "source": [
    "eta = 0.05  # learning rate\n",
    "Niter = int(1e6)  # number of SG iterations\n",
    "savecost = np.zeros(Niter)  # value of cost function at each iteration\n",
    "input_size = 2"
   ]
  },
  {
   "cell_type": "code",
   "execution_count": 7,
   "id": "0a1d1117",
   "metadata": {},
   "outputs": [
    {
     "name": "stdout",
     "output_type": "stream",
     "text": [
      "5.004137803264132\n",
      "2.6006744167020632\n",
      "0.11422698702115747\n",
      "0.008517918278585687\n",
      "0.0038570575116818745\n",
      "0.0023893479890443534\n",
      "0.001706439908132815\n",
      "0.0013149565243824473\n",
      "0.0010633327794674604\n",
      "0.0008916258443538337\n",
      "time: 12.945114835103352  min\n"
     ]
    }
   ],
   "source": [
    "t0 = time()\n",
    "#\n",
    "for counter in range(Niter):\n",
    "    k = np.random.randint(10)  # choose a training point at random\n",
    "    x = x_full[:,k].reshape(input_size,-1)\n",
    "    # Forward pass\n",
    "    a2 = activate(x, W2, b2)\n",
    "    a3 = activate(a2, W3, b3)\n",
    "    a4 = activate(a3, W4, b4)\n",
    "    # Backward pass\n",
    "    delta4 = a4*(1 - a4)*(a4 - y[:, k].reshape(input_size,-1))\n",
    "    delta3 = a3*(1 - a3)*np.matmul(W4.T,delta4)\n",
    "    delta2 = a2*(1 - a2)*np.matmul(W3.T,delta3)\n",
    "    # Gradient step\n",
    "    W2 -= eta*np.outer(delta2, x)\n",
    "    W3 -= eta*np.outer(delta3, a2)\n",
    "    W4 -= eta*np.outer(delta4, a3)\n",
    "    b2 -= eta*delta2\n",
    "    b3 -= eta*delta3\n",
    "    b4 -= eta*delta4\n",
    "    # Monitor progress\n",
    "    newcost = cost(W2, W3, W4, b2, b3, b4) \n",
    "    if counter%100000==0:\n",
    "        print(newcost)\n",
    "    savecost[counter] = newcost\n",
    "print('time:',(time() - t0)/60,' min')"
   ]
  },
  {
   "cell_type": "code",
   "execution_count": 8,
   "id": "09be7f68",
   "metadata": {},
   "outputs": [
    {
     "data": {
      "image/png": "[encoded data removed]",
      "text/plain": [
       "<Figure size 432x288 with 1 Axes>"
      ]
     },
     "metadata": {
      "needs_background": "light"
     },
     "output_type": "display_data"
    }
   ],
   "source": [
    "np.save('costvec.npy', savecost)\n",
    "plt.semilogy(range(0, Niter, int(1e4)), savecost[::int(1e4)])\n",
    "plt.show()"
   ]
  },
  {
   "cell_type": "markdown",
   "id": "61a7059b",
   "metadata": {},
   "source": [
    "**Results**"
   ]
  },
  {
   "cell_type": "code",
   "execution_count": 19,
   "id": "ff9c81d6",
   "metadata": {},
   "outputs": [
    {
     "data": {
      "text/plain": [
       "(-0.1, 1.1)"
      ]
     },
     "execution_count": 19,
     "metadata": {},
     "output_type": "execute_result"
    },
    {
     "data": {
      "image/png": "[encoded data removed]",
      "text/plain": [
       "<Figure size 432x288 with 1 Axes>"
      ]
     },
     "metadata": {
      "needs_background": "light"
     },
     "output_type": "display_data"
    }
   ],
   "source": [
    "for k in range(5):\n",
    "    x = x_full[:,k].reshape(input_size,-1)\n",
    "    # Forward pass\n",
    "    a2 = activate(x, W2, b2)\n",
    "    a3 = activate(a2, W3, b3)\n",
    "    a4 = activate(a3, W4, b4)\n",
    "    plt.plot(a4[0],a4[1],'ro')\n",
    "for k in range(5,10):\n",
    "    x = x_full[:,k].reshape(input_size,-1)\n",
    "    # Forward pass\n",
    "    a2 = activate(x, W2, b2)\n",
    "    a3 = activate(a2, W3, b3)\n",
    "    a4 = activate(a3, W4, b4)\n",
    "    plt.plot(a4[0],a4[1],'gx')\n",
    "plt.xlim(-0.1,1.1)\n",
    "plt.ylim(-0.1,1.1)"
   ]
  }
 ],
 "metadata": {
  "kernelspec": {
   "display_name": "Python 3 (ipykernel)",
   "language": "python",
   "name": "python3"
  },
  "language_info": {
   "codemirror_mode": {
    "name": "ipython",
    "version": 3
   },
   "file_extension": ".py",
   "mimetype": "text/x-python",
   "name": "python",
   "nbconvert_exporter": "python",
   "pygments_lexer": "ipython3",
   "version": "3.9.12"
  }
 },
 "nbformat": 4,
 "nbformat_minor": 5
}

{
 "cells": [
  {
   "cell_type": "code",
   "execution_count": 1,
   "metadata": {},
   "outputs": [],
   "source": [
    "import torch"
   ]
  },
  {
   "cell_type": "code",
   "execution_count": 2,
   "metadata": {},
   "outputs": [
    {
     "name": "stdout",
     "output_type": "stream",
     "text": [
      "x:  tensor([[1.],\n",
      "        [2.]], grad_fn=<ViewBackward0>)\n",
      "t:  tensor([[0.1000],\n",
      "        [0.2000]], grad_fn=<ViewBackward0>)\n"
     ]
    }
   ],
   "source": [
    "x = torch.tensor([1., 2.], requires_grad = True).view(-1,1)\n",
    "t = torch.tensor([0.1, 0.2], requires_grad = True).view(-1,1)\n",
    "print('x: ',x)\n",
    "print('t: ',t)"
   ]
  },
  {
   "attachments": {},
   "cell_type": "markdown",
   "metadata": {},
   "source": [
    "**Class to define the neural network**"
   ]
  },
  {
   "cell_type": "code",
   "execution_count": 3,
   "metadata": {},
   "outputs": [],
   "source": [
    "class Model(torch.nn.Module):\n",
    "    def __init__(self) -> None:\n",
    "        super(Model,self).__init__()\n",
    "        self.layer01 = torch.nn.Linear(2,1)\n",
    "    \n",
    "    def forward(self,x,t):\n",
    "        inputs = torch.cat([x,t], axis=1)\n",
    "        output = torch.sigmoid(self.layer01(inputs))\n",
    "        return output"
   ]
  },
  {
   "cell_type": "code",
   "execution_count": 4,
   "metadata": {},
   "outputs": [
    {
     "data": {
      "text/plain": [
       "OrderedDict([('layer01.weight', tensor([[0.6240, 0.0947]])),\n",
       "             ('layer01.bias', tensor([-0.3125]))])"
      ]
     },
     "execution_count": 4,
     "metadata": {},
     "output_type": "execute_result"
    }
   ],
   "source": [
    "model = Model()\n",
    "model.state_dict()"
   ]
  },
  {
   "attachments": {},
   "cell_type": "markdown",
   "metadata": {},
   "source": [
    "$$u(x,t;\\theta) = \\sigma(ax + bt + c)$$"
   ]
  },
  {
   "cell_type": "code",
   "execution_count": 5,
   "metadata": {},
   "outputs": [],
   "source": [
    "u = model(x,t)"
   ]
  },
  {
   "attachments": {},
   "cell_type": "markdown",
   "metadata": {},
   "source": [
    "**First derivative w/r $x$**\n",
    "$$u_{x}(x,t;\\theta) = \\sigma'(ax + bt + c)\\frac{\\partial}{\\partial x}(ax + bt + c) = \\sigma(ax + bt + c)(1 - \\sigma(ax + bt + c))a$$"
   ]
  },
  {
   "cell_type": "code",
   "execution_count": 6,
   "metadata": {},
   "outputs": [
    {
     "name": "stdout",
     "output_type": "stream",
     "text": [
      "tensor([[0.1521],\n",
      "        [0.1252]], grad_fn=<SliceBackward0>)\n"
     ]
    }
   ],
   "source": [
    "u_x  = torch.autograd.grad(outputs=u, \n",
    "                           inputs=x,\n",
    "                           create_graph=True,\n",
    "                           # Not sure when we may need 'retain_graph', maybe between epochs\n",
    "                           #retain_graph=True,\n",
    "                           grad_outputs=torch.ones_like(u)\n",
    "                           )[0]\n",
    "print(u_x)"
   ]
  },
  {
   "cell_type": "code",
   "execution_count": 7,
   "metadata": {},
   "outputs": [
    {
     "name": "stdout",
     "output_type": "stream",
     "text": [
      "tensor([[0.1521],\n",
      "        [0.1252]], grad_fn=<MulBackward0>)\n"
     ]
    }
   ],
   "source": [
    "# check\n",
    "a = model.state_dict()['layer01.weight'][0][0]\n",
    "b = model.state_dict()['layer01.weight'][0][1]\n",
    "c = model.state_dict()['layer01.bias'][0]\n",
    "print(torch.sigmoid(a*x + b*t + c)*(1 - torch.sigmoid(a*x + b*t + c))*a)"
   ]
  },
  {
   "attachments": {},
   "cell_type": "markdown",
   "metadata": {},
   "source": [
    "**Second derivative w/r $x$**\n",
    "$$u_{x}(x,t;\\theta) = \\sigma(ax + bt + c)(1 - \\sigma(ax + bt + c))a$$\n",
    "$$u_{xx}(x; \\theta) = \\sigma(ax + bt + c)(1 - \\sigma(ax + bt + c))a^2 - \\sigma(ax + bt + c)^2(1 - \\sigma(ax + bt + c))a^2$$"
   ]
  },
  {
   "cell_type": "code",
   "execution_count": 8,
   "metadata": {},
   "outputs": [
    {
     "name": "stdout",
     "output_type": "stream",
     "text": [
      "tensor([[-0.0151],\n",
      "        [-0.0347]], grad_fn=<SliceBackward0>)\n"
     ]
    }
   ],
   "source": [
    "u_xx = torch.autograd.grad(outputs=u_x, \n",
    "                           inputs=x,\n",
    "                           create_graph=True,\n",
    "                           grad_outputs=torch.ones_like(u_x)\n",
    "                           )[0]\n",
    "print(u_xx)"
   ]
  },
  {
   "cell_type": "code",
   "execution_count": 9,
   "metadata": {},
   "outputs": [
    {
     "name": "stdout",
     "output_type": "stream",
     "text": [
      "tensor([[-0.0151],\n",
      "        [-0.0347]], grad_fn=<AddBackward0>)\n"
     ]
    }
   ],
   "source": [
    "# check!\n",
    "p1 = torch.sigmoid(a*x + b*t + c)*(1 - torch.sigmoid(a*x + b*t + c))**2*a**2\n",
    "p2 = - torch.sigmoid(a*x + b*t + c)**2*(1 - torch.sigmoid(a*x + b*t + c))*a**2\n",
    "print(p1 + p2)"
   ]
  },
  {
   "attachments": {},
   "cell_type": "markdown",
   "metadata": {},
   "source": [
    "**Mixed derivatives w/r $x$ and $t$**\n",
    "$$u_{x}(x,t;\\theta) = \\sigma(ax + bt + c)(1 - \\sigma(ax + bt + c))a$$\n",
    "$$u_{xt}(x; \\theta) = \\sigma(ax + bt + c)(1 - \\sigma(ax + bt + c))ab - \\sigma(ax + bt + c)^2(1 - \\sigma(ax + bt + c))ab$$"
   ]
  },
  {
   "cell_type": "code",
   "execution_count": 10,
   "metadata": {},
   "outputs": [
    {
     "name": "stdout",
     "output_type": "stream",
     "text": [
      "tensor([[-0.0023],\n",
      "        [-0.0053]])\n"
     ]
    }
   ],
   "source": [
    "u_xt = torch.autograd.grad(outputs=u_x, \n",
    "                           inputs=t,\n",
    "                           grad_outputs=torch.ones_like(u_x)\n",
    "                           )[0]\n",
    "print(u_xt)"
   ]
  },
  {
   "cell_type": "code",
   "execution_count": 11,
   "metadata": {},
   "outputs": [
    {
     "name": "stdout",
     "output_type": "stream",
     "text": [
      "tensor([[-0.0023],\n",
      "        [-0.0053]], grad_fn=<AddBackward0>)\n"
     ]
    }
   ],
   "source": [
    "# check!\n",
    "p1 = torch.sigmoid(a*x + b*t + c)*(1 - torch.sigmoid(a*x + b*t + c))**2*a*b\n",
    "p2 = - torch.sigmoid(a*x + b*t + c)**2*(1 - torch.sigmoid(a*x + b*t + c))*a*b\n",
    "print(p1 + p2)"
   ]
  },
  {
   "cell_type": "code",
   "execution_count": null,
   "metadata": {},
   "outputs": [],
   "source": []
  }
 ],
 "metadata": {
  "kernelspec": {
   "display_name": "torch-env-win",
   "language": "python",
   "name": "torch-env-win"
  },
  "language_info": {
   "codemirror_mode": {
    "name": "ipython",
    "version": 3
   },
   "file_extension": ".py",
   "mimetype": "text/x-python",
   "name": "python",
   "nbconvert_exporter": "python",
   "pygments_lexer": "ipython3",
   "version": "3.9.12"
  },
  "orig_nbformat": 4
 },
 "nbformat": 4,
 "nbformat_minor": 2
}

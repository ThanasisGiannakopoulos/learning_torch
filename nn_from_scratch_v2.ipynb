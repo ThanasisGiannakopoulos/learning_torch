{
 "cells": [
  {
   "cell_type": "code",
   "execution_count": 3,
   "id": "a3238692",
   "metadata": {},
   "outputs": [],
   "source": [
    "import numpy as np\n",
    "from matplotlib import pyplot as plt\n",
    "\n",
    "import logging\n",
    "\n",
    "logging.basicConfig(level=logging.INFO)  # Set the logging level to INFO"
   ]
  },
  {
   "cell_type": "code",
   "execution_count": 4,
   "id": "82582ea3",
   "metadata": {},
   "outputs": [],
   "source": [
    "def activate(x, W, b):\n",
    "    # x should be of size (input X number of samples)\n",
    "    return 1 / (1 + np.exp(-(np.matmul(W, x) + b)))\n",
    "\n",
    "def cost(W2, W3, W4, b2, b3, b4):\n",
    "    costvec = np.zeros(10)\n",
    "    for i in range(10):\n",
    "        x = x_full[:,i].reshape(input_size,-1)\n",
    "        a2 = activate(x, W2, b2)\n",
    "        a3 = activate(a2, W3, b3)\n",
    "        a4 = activate(a3, W4, b4)\n",
    "        costvec[i] = np.linalg.norm(y[:, i].reshape(input_size,-1) - a4, 2)\n",
    "    return np.linalg.norm(costvec, 2)**2"
   ]
  },
  {
   "cell_type": "code",
   "execution_count": 6,
   "id": "28648066",
   "metadata": {},
   "outputs": [
    {
     "name": "stderr",
     "output_type": "stream",
     "text": [
      "INFO:root:Value of x1:\n",
      "[[0.1 0.3 0.1 0.6 0.4 0.6 0.5 0.9 0.4 0.7]]\n",
      "Shape of x1: (1, 10)\n",
      "INFO:root:Value of x2:\n",
      "[[0.1 0.4 0.5 0.9 0.2 0.3 0.6 0.2 0.4 0.6]]\n",
      "Shape of x2: (1, 10)\n",
      "INFO:root:Value of y:\n",
      "[[1 1 1 1 1 0 0 0 0 0]\n",
      " [0 0 0 0 0 1 1 1 1 1]]\n",
      "Shape of y: (2, 10)\n"
     ]
    }
   ],
   "source": [
    "x1 = np.array([[0.1, 0.3, 0.1, 0.6, 0.4, 0.6, 0.5, 0.9, 0.4, 0.7]])\n",
    "x2 = np.array([[0.1, 0.4, 0.5, 0.9, 0.2, 0.3, 0.6, 0.2, 0.4, 0.6]])\n",
    "y = np.array([[1, 1, 1, 1, 1, 0, 0, 0, 0, 0],\n",
    "              [0, 0, 0, 0, 0, 1, 1, 1, 1, 1]])\n",
    "#\n",
    "logging.info(\"Value of x1:\\n%s\\nShape of x1: %s\", x1, x1.shape)\n",
    "logging.info(\"Value of x2:\\n%s\\nShape of x2: %s\", x2, x2.shape)\n",
    "logging.info(\"Value of y:\\n%s\\nShape of y: %s\", y, y.shape)"
   ]
  },
  {
   "cell_type": "code",
   "execution_count": 11,
   "id": "3e487ef6",
   "metadata": {},
   "outputs": [
    {
     "name": "stdout",
     "output_type": "stream",
     "text": [
      "[[0.1 0.3 0.1 0.6 0.4 0.6 0.5 0.9 0.4 0.7]\n",
      " [0.1 0.4 0.5 0.9 0.2 0.3 0.6 0.2 0.4 0.6]]\n"
     ]
    }
   ],
   "source": [
    "x_full = np.concatenate((x1,x2),axis=0)\n",
    "print(x_full)"
   ]
  },
  {
   "cell_type": "code",
   "execution_count": 7,
   "id": "b6bf4c2c",
   "metadata": {},
   "outputs": [
    {
     "name": "stderr",
     "output_type": "stream",
     "text": [
      "INFO:root:Value of W2:\n",
      "[[0.05 0.1 ]\n",
      " [0.15 0.2 ]]\n",
      "Shape of W2: (2, 2)\n",
      "INFO:root:Value of W3:\n",
      "[[-0.05  0.1 ]\n",
      " [-0.15  0.2 ]\n",
      " [ 0.25 -0.3 ]]\n",
      "Shape of W3: (3, 2)\n",
      "INFO:root:Value of W4:\n",
      "[[ 0.05 -0.1   0.15]\n",
      " [-0.2  -0.25  0.3 ]]\n",
      "Shape of W4: (2, 3)\n",
      "INFO:root:Value of b2:\n",
      "[[0.]\n",
      " [0.]]\n",
      "Shape of b2: (2, 1)\n",
      "INFO:root:Value of b3:\n",
      "[[0.]\n",
      " [0.]\n",
      " [0.]]\n",
      "Shape of b3: (3, 1)\n",
      "INFO:root:Value of b4:\n",
      "[[0.]\n",
      " [0.]]\n",
      "Shape of b4: (2, 1)\n"
     ]
    }
   ],
   "source": [
    "#np.random.seed(5000)\n",
    "#W2 = 0.5 * np.random.randn(2, 2)\n",
    "#W3 = 0.5 * np.random.randn(3, 2)\n",
    "#W4 = 0.5 * np.random.randn(2, 3)\n",
    "#b2 = 0.5 * np.random.randn(2, 1)\n",
    "#b3 = 0.5 * np.random.randn(3, 1)\n",
    "#b4 = 0.5 * np.random.randn(2, 1)\n",
    "\n",
    "W2 = 0.5*np.array([[.1, .2], [.3, .4]])\n",
    "W3 = 0.5*np.array([[-.1, .2], [-.3, .4], [.5, -.6]])\n",
    "W4 = 0.5*np.array([[.1, -.2, .3], [-.4, -.5, .6]])\n",
    "b2 = 0.5 * np.zeros((2, 1))\n",
    "b3 = 0.5 * np.zeros((3, 1))\n",
    "b4 = 0.5 * np.zeros((2, 1))\n",
    "\n",
    "#\n",
    "logging.info(\"Value of W2:\\n%s\\nShape of W2: %s\", W2, W2.shape)\n",
    "logging.info(\"Value of W3:\\n%s\\nShape of W3: %s\", W3, W3.shape)\n",
    "logging.info(\"Value of W4:\\n%s\\nShape of W4: %s\", W4, W4.shape)\n",
    "logging.info(\"Value of b2:\\n%s\\nShape of b2: %s\", b2, b2.shape)\n",
    "logging.info(\"Value of b3:\\n%s\\nShape of b3: %s\", b3, b3.shape)\n",
    "logging.info(\"Value of b4:\\n%s\\nShape of b4: %s\", b4, b4.shape)"
   ]
  },
  {
   "cell_type": "code",
   "execution_count": 14,
   "id": "993857df",
   "metadata": {},
   "outputs": [],
   "source": [
    "eta = 0.05  # learning rate\n",
    "Niter = int(1) #int(1e6)  # number of SG iterations\n",
    "savecost = np.zeros(Niter)  # value of cost function at each iteration\n",
    "input_size = 2"
   ]
  },
  {
   "cell_type": "code",
   "execution_count": 15,
   "id": "0a1d1117",
   "metadata": {},
   "outputs": [
    {
     "name": "stderr",
     "output_type": "stream",
     "text": [
      "INFO:root:Value of k: 1\n",
      "INFO:root:Value of x:\n",
      "[[0.3]\n",
      " [0.4]]\n",
      "Shape of x: (2, 1)\n",
      "INFO:root:Value of a2:\n",
      "[[0.51455335]\n",
      " [0.53010591]]\n",
      "Shape of a2: (2, 1)\n",
      "INFO:root:Value of a3:\n",
      "[[0.50096638]\n",
      " [0.50174127]\n",
      " [0.48938004]]\n",
      "Shape of a3: (3, 1)\n",
      "INFO:root:Value of a4:\n",
      "[[0.50788535]\n",
      " [0.49233694]]\n",
      "Shape of a4: (2, 1)\n",
      "INFO:root:Value of delta4:\n",
      "[[-0.12299806]\n",
      " [ 0.12305532]]\n",
      "Shape of delta4: (2, 1)\n",
      "INFO:root:Value of delta3:\n",
      "[[-0.00696623]\n",
      " [-0.00383781]\n",
      " [ 0.00485999]]\n",
      "Shape of delta3: (3, 1)\n",
      "INFO:root:Value of delta2:\n",
      "[[ 0.00055225]\n",
      " [-0.0007001 ]]\n",
      "Shape of delta2: (2, 1)\n",
      "INFO:root:Value of W2:\n",
      "[[0.06040811 0.10016877]\n",
      " [0.13624177 0.19966581]]\n",
      "Shape of W2: (2, 2)\n"
     ]
    },
    {
     "name": "stdout",
     "output_type": "stream",
     "text": [
      "5.002395394172991\n"
     ]
    }
   ],
   "source": [
    "for counter in range(Niter):\n",
    "    k = np.random.randint(10)  # choose a training point at random\n",
    "    x = x_full[:,k].reshape(input_size,-1)\n",
    "    # Forward pass\n",
    "    a2 = activate(x, W2, b2)\n",
    "    a3 = activate(a2, W3, b3)\n",
    "    a4 = activate(a3, W4, b4)\n",
    "    # Backward pass\n",
    "    delta4 = a4*(1 - a4)*(a4 - y[:, k].reshape(input_size,-1))\n",
    "    delta3 = a3*(1 - a3)*np.matmul(W4.T,delta4)\n",
    "    delta2 = a2*(1 - a2)*np.matmul(W3.T,delta3)\n",
    "    # Gradient step\n",
    "    W2 -= eta*np.outer(delta2, x)\n",
    "    W3 -= eta*np.outer(delta3, a2)\n",
    "    W4 -= eta*np.outer(delta4, a3)\n",
    "    b2 -= eta*delta2\n",
    "    b3 -= eta*delta3\n",
    "    b4 -= eta*delta4\n",
    "    \n",
    "    #\n",
    "    logging.info(\"Value of k: %s\", k)\n",
    "    logging.info(\"Value of x:\\n%s\\nShape of x: %s\", x, x.shape)\n",
    "    logging.info(\"Value of a2:\\n%s\\nShape of a2: %s\", a2, a2.shape)\n",
    "    logging.info(\"Value of a3:\\n%s\\nShape of a3: %s\", a3, a3.shape)\n",
    "    logging.info(\"Value of a4:\\n%s\\nShape of a4: %s\", a4, a4.shape)\n",
    "    logging.info(\"Value of delta4:\\n%s\\nShape of delta4: %s\", delta4, delta4.shape)\n",
    "    logging.info(\"Value of delta3:\\n%s\\nShape of delta3: %s\", delta3, delta3.shape)\n",
    "    logging.info(\"Value of delta2:\\n%s\\nShape of delta2: %s\", delta2, delta2.shape)\n",
    "    logging.info(\"Value of W2:\\n%s\\nShape of W2: %s\", W2, W2.shape)\n",
    "    \n",
    "    # Monitor progress\n",
    "    newcost = cost(W2, W3, W4, b2, b3, b4) \n",
    "    if counter%100000==0:\n",
    "        print(newcost)\n",
    "    savecost[counter] = newcost"
   ]
  },
  {
   "cell_type": "code",
   "execution_count": 11,
   "id": "09be7f68",
   "metadata": {},
   "outputs": [
    {
     "data": {
      "image/png": "[encoded data removed]",
      "text/plain": [
       "<Figure size 432x288 with 1 Axes>"
      ]
     },
     "metadata": {
      "needs_background": "light"
     },
     "output_type": "display_data"
    }
   ],
   "source": [
    "np.save('costvec.npy', savecost)\n",
    "plt.semilogy(range(0, Niter, int(1e4)), savecost[::int(1e4)])\n",
    "plt.show()"
   ]
  },
  {
   "cell_type": "code",
   "execution_count": null,
   "id": "16f90b54",
   "metadata": {},
   "outputs": [],
   "source": []
  }
 ],
 "metadata": {
  "kernelspec": {
   "display_name": "Python 3 (ipykernel)",
   "language": "python",
   "name": "python3"
  },
  "language_info": {
   "codemirror_mode": {
    "name": "ipython",
    "version": 3
   },
   "file_extension": ".py",
   "mimetype": "text/x-python",
   "name": "python",
   "nbconvert_exporter": "python",
   "pygments_lexer": "ipython3",
   "version": "3.9.12"
  }
 },
 "nbformat": 4,
 "nbformat_minor": 5
}

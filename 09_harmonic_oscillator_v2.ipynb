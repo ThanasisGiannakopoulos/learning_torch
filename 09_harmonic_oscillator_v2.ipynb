{
 "cells": [
  {
   "cell_type": "code",
   "execution_count": 1,
   "id": "86982787-0db1-4c75-a3bb-6cb6cdbce4a4",
   "metadata": {},
   "outputs": [],
   "source": [
    "import torch\n",
    "from matplotlib import pyplot as plt\n",
    "import numpy as np"
   ]
  },
  {
   "cell_type": "code",
   "execution_count": 2,
   "id": "20aa36d1-feba-483a-8293-8b3098cfc9e3",
   "metadata": {},
   "outputs": [
    {
     "name": "stdout",
     "output_type": "stream",
     "text": [
      "torch version: 2.4.1+cu124\n"
     ]
    }
   ],
   "source": [
    "print('torch version:',torch.__version__)"
   ]
  },
  {
   "cell_type": "code",
   "execution_count": 3,
   "id": "c7dc6408-c053-4435-8a51-b0a8bf2d7684",
   "metadata": {},
   "outputs": [
    {
     "name": "stdout",
     "output_type": "stream",
     "text": [
      "device: cuda\n"
     ]
    }
   ],
   "source": [
    "if torch.cuda.is_available():\n",
    "    device = torch.device(\"cuda\")\n",
    "    print('device:', device)\n",
    "else:\n",
    "    device = torch.device(\"cpu\")\n",
    "    print('CUDA is not available. Using CPU.')"
   ]
  },
  {
   "cell_type": "markdown",
   "id": "0e6a669e-6f03-4e63-a03f-2c6aee70a044",
   "metadata": {},
   "source": [
    "Solve the single harmonic oscillator ODE:\n",
    "$$ x_{tt} + \\omega^2 \\, x = 0$$\n",
    "with initial conditions\n",
    "$$x(t=0)=A \\sin(\\phi) \\,, \\quad x_t(t=0)=\\omega A \\cos(\\phi)$$  \n",
    "where\n",
    "$$\\omega\\equiv \\sqrt{k/m}$$\n",
    "and the analytical solution is\n",
    "$$x(t) = A \\sin ( \\omega t + \\phi)$$\n",
    "with $A$ the oscillation amplitude and $\\phi$ the initial phase\n",
    "\n",
    "The dimension of the harmonic oscillator ODE is [m/s^2] (accelaration). We want to make it dimensionless. If we want to solve the problem in the domain $t \\in [0,T]$, we can rescale the variables by $T^2/m$, where $m$ is the mass that oscillates. The rescaled variable is\n",
    "$$\\hat{x}(t) \\equiv \\frac{T^2}{m}x(t).$$\n",
    "\n",
    "This is an attempt to address non-dimensionalization of the system. If we also take a different time coordinate $\\tau \\equiv T \\, t$, then when $t \\in [0,T]$, $\\tau \\in [0,1]$. We also have that $\\partial_\\tau^2 = T^2 \\partial_t^2$.\n",
    "\n",
    "Let's try to evolve $x(\\tau)$ (the same $x$), but absorb $T^2$ in the partial derivative and the frequency:\n",
    "\\begin{align}\n",
    "&\n",
    "\\frac{T^2}{m}\\left( x_{tt}(t) + \\omega^2 \\, x(t) \\right) = 0.\n",
    "\\\\\n",
    "\\rightarrow\n",
    "&\n",
    "\\frac{1}{m}\\left( x_{\\tau \\tau} + \\hat{\\omega}^2 \\, x(\\tau) \\right) = 0,\n",
    "\\end{align}\n",
    "with $\\hat{\\omega} \\equiv T \\omega$. The computational domain is $\\tau \\in [0,1]$."
   ]
  },
  {
   "cell_type": "markdown",
   "id": "4057fe1a-4702-49d6-a7bd-e52de6d89fbb",
   "metadata": {},
   "source": [
    "Define the neural network:"
   ]
  },
  {
   "cell_type": "code",
   "execution_count": 4,
   "id": "1782291c-dcaa-4f7b-98f6-e1401f8a4aa3",
   "metadata": {},
   "outputs": [],
   "source": [
    "def RFF(x, sigma2=1.0):\n",
    "        \n",
    "    # Random weights and biases for RFF\n",
    "    B1 = torch.normal(mean = torch.zeros(len(x)).to(device),std=sigma2*torch.ones(1).to(device))\n",
    "    B2 = torch.normal(mean = torch.zeros(len(x)).to(device),std=sigma2*torch.ones(1).to(device))\n",
    "     \n",
    "    x_cos = torch.cos(B1*x)\n",
    "    x_sin = torch.sin(B2*x)\n",
    "    RFF_x = torch.cat((x_cos, x_sin)).view(-1,1)\n",
    "    \n",
    "    return RFF_x"
   ]
  },
  {
   "cell_type": "code",
   "execution_count": 11,
   "id": "4d5ce9d1-f983-4cdf-883d-f718c57c40c6",
   "metadata": {},
   "outputs": [],
   "source": [
    "# copied from https://github.com/benmoseley/harmonic-oscillator-pinn/blob/main/Harmonic%20oscillator%20PINN.ipynb\n",
    "class FCN(torch.nn.Module):    \n",
    "    def __init__(self, N_INPUT, N_OUTPUT, N_HIDDEN, N_LAYERS):\n",
    "        super().__init__()\n",
    "        activation = torch.nn.Tanh\n",
    "        \n",
    "        self.fcs = torch.nn.Sequential(*[\n",
    "                        torch.nn.Linear(N_INPUT, N_HIDDEN),\n",
    "                        activation()])\n",
    "        self.fch = torch.nn.Sequential(*[\n",
    "                        torch.nn.Sequential(*[\n",
    "                            torch.nn.Linear(N_HIDDEN, N_HIDDEN),\n",
    "                            activation()]) for _ in range(N_LAYERS-1)])\n",
    "        self.fce = torch.nn.Linear(N_HIDDEN, N_OUTPUT)\n",
    "\n",
    "      # Apply custom weight initialization\n",
    "        self.apply(self._init_weights)\n",
    "    \n",
    "    def forward(self, x):\n",
    "        x = self.fcs(x)\n",
    "        x = self.fch(x)\n",
    "        x = self.fce(x)\n",
    "        return x\n",
    "\n",
    "    def _init_weights(self, m):\n",
    "        if isinstance(m, torch.nn.Linear):\n",
    "            # Get the size of the previous layer (input size of the current layer)\n",
    "            n = m.in_features # The number of input features to this layer\n",
    "            # Set the range for uniform distribution as [-1/sqrt(n), 1/sqrt(n)]\n",
    "            bound = 1 / np.sqrt(n)\n",
    "            # Initialize weights with a uniform distribution in the range [-bound, bound]\n",
    "            torch.nn.init.uniform_(m.weight, -bound, bound)\n",
    "            \n",
    "            # Initialize biases to zero, only if the layer has biases\n",
    "            if m.bias is not None:\n",
    "                torch.nn.init.constant_(m.bias, 0.0)"
   ]
  },
  {
   "cell_type": "code",
   "execution_count": 55,
   "id": "08efc761-05e0-42e0-8f60-95e877993a95",
   "metadata": {},
   "outputs": [],
   "source": [
    "#torch.manual_seed(123)\n",
    "\n",
    "# set the model\n",
    "# model_1 has arguments (seld, width), but only count from width (tunable)\n",
    "model = FCN(1,1,32,3).to(device)\n",
    "#Model()\n",
    "#model_1(32)\n",
    "#FCN(1,1,32,3)\n",
    "\n",
    "# optimizer and initialization of parameters (weights and biases)\n",
    "optimizer = torch.optim.Adam(model.parameters(),\n",
    "                              lr=1.e-3)\n",
    "scheduler = torch.optim.lr_scheduler.ExponentialLR(optimizer, gamma=0.99)"
   ]
  },
  {
   "cell_type": "code",
   "execution_count": 56,
   "id": "ea3ca5f9-59f7-49ba-a640-409c266165bf",
   "metadata": {},
   "outputs": [],
   "source": [
    "# random (uniform) sample points\n",
    "def random_domain_points(n):\n",
    "    t = torch.rand((n,1), requires_grad=True)\n",
    "    return t"
   ]
  },
  {
   "cell_type": "code",
   "execution_count": 57,
   "id": "3ac07d2f-2099-47b0-a646-94c24cc88b80",
   "metadata": {},
   "outputs": [],
   "source": [
    "# harmonic oscillator params\n",
    "m = torch.ones(1).to(device); # mass\n",
    "k = 5*torch.ones(1).to(device); # spring constant\n",
    "# freq\n",
    "omega = torch.sqrt(k/m)\n",
    "\n",
    "A = 1.0#torch.ones(1); # amplitude\n",
    "phi = torch.pi*torch.ones(1).to(device) # initial phase\n",
    "T = 5.0*torch.ones(1).to(device) # tmax\n",
    "omegahat = (T**2)*omega"
   ]
  },
  {
   "cell_type": "code",
   "execution_count": 58,
   "id": "199fea52-6be6-472f-8869-e9a442b7ef8c",
   "metadata": {},
   "outputs": [
    {
     "name": "stdout",
     "output_type": "stream",
     "text": [
      "epoch =  19999 | loss =  0.7187116146087646 ||\r"
     ]
    }
   ],
   "source": [
    "n = 50*4 # number of random sampling points\n",
    "\n",
    "epochs = 20000\n",
    "gamma1 = 10.0\n",
    "gamma2 = 10.0\n",
    "\n",
    "loss_list = []\n",
    "\n",
    "for epoch in range(int(epochs)):\n",
    "    #print('epoch = ', epoch, end='\\r')\n",
    "    optimizer.zero_grad() # to make the gradients zero\n",
    "    #\n",
    "    #t = random_domain_points(n).to(device)\n",
    "    #t = RFF(t, sigma2=1.0).to(device)\n",
    "    t = T*random_domain_points(n).to(device)\n",
    "    t = T*RFF(t, sigma2=1.0).to(device)\n",
    "    x = model(t)\n",
    "    # Derivatives\n",
    "    x_t = torch.autograd.grad(outputs=x, \n",
    "                              inputs=t,\n",
    "                              create_graph=True,\n",
    "                              grad_outputs=torch.ones_like(x)\n",
    "                              )[0]\n",
    "    x_tt = torch.autograd.grad(outputs=x_t, \n",
    "                               inputs=t,\n",
    "                               create_graph=True,\n",
    "                               grad_outputs=torch.ones_like(x_t)\n",
    "                               )[0]\n",
    "    \n",
    "    # residual for the bulk of the domain\n",
    "    #residual = (1/m)*(x_tt + omegahat*x)\n",
    "    residual = (T**2/m)*(x_tt + omega*x)\n",
    "    loss_dom = torch.mean(torch.pow(residual,2))\n",
    "    # residual for initial data\n",
    "    # sol for x(t=0)\n",
    "    t0 = torch.zeros(1, requires_grad=True).to(device)\n",
    "    x0 = model(t0) # solution of x(t=0)\n",
    "    loss_x0 = torch.mean(torch.pow(x0 - A*torch.sin(phi), 2))\n",
    "    # sol for x_t(t=0)\n",
    "    xt0 = torch.autograd.grad(outputs=x0,\n",
    "                             inputs=t0,\n",
    "                             create_graph=True,\n",
    "                             grad_outputs=torch.ones_like(x0)\n",
    "                             )[0]\n",
    "    omega = torch.sqrt(k/m)\n",
    "    loss_xt0 = torch.mean(torch.pow(xt0 - A*omega*torch.cos(phi), 2))\n",
    "    # LOSS\n",
    "    loss = loss_dom + gamma1*loss_x0 + gamma2*loss_xt0 + torch.mean(torch.pow(torch.abs(x)-1,2))\n",
    "    loss_list.append(loss.cpu().detach().numpy())\n",
    "    # print message\n",
    "    print('epoch = ', epoch, '| loss = ', loss.item(), '|',  end='\\r')\n",
    "    # detach() removes the \"requires_grad\" and numpy() makes it a numpy item to plot later\n",
    "    loss.backward() # This is for computing gradients using backward propagation\n",
    "    optimizer.step() # \n"
   ]
  },
  {
   "cell_type": "code",
   "execution_count": 49,
   "id": "b2b0201f-613b-4809-801c-4197613b9dab",
   "metadata": {},
   "outputs": [
    {
     "data": {
      "text/plain": [
       "[<matplotlib.lines.Line2D at 0x7edd625ca620>]"
      ]
     },
     "execution_count": 49,
     "metadata": {},
     "output_type": "execute_result"
    },
    {
     "data": {
      "image/png": "[encoded data removed]",
      "text/plain": [
       "<Figure size 640x480 with 1 Axes>"
      ]
     },
     "metadata": {},
     "output_type": "display_data"
    }
   ],
   "source": [
    "plt.semilogy(loss_list)"
   ]
  },
  {
   "cell_type": "code",
   "execution_count": 50,
   "id": "0979045d-5e16-4294-8852-3529b5ff5d9b",
   "metadata": {},
   "outputs": [],
   "source": [
    "# the analytical solution\n",
    "def analytical_sol(m, k, A, phi, t):\n",
    "    omega = np.sqrt(k/m)\n",
    "    x = A*np.sin(omega*t + phi)\n",
    "    return x"
   ]
  },
  {
   "cell_type": "code",
   "execution_count": 52,
   "id": "91444bb4-dadf-4265-a4ff-e19a763d4207",
   "metadata": {},
   "outputs": [],
   "source": [
    "# the time domain; used to visualize the analytical solution\n",
    "T1 = 5 # tmax\n",
    "t = torch.linspace(0,T1,100)\n",
    "# the view(-1,1) make the row tensor to a column tensor\n",
    "# -1 means you dont know how many rows you need, and 1 mean that you want 1 element in each row\n",
    "tt = torch.linspace(0,T1,100).view(-1,1).to(device)\n",
    "\n",
    "nn_sol = model(tt).cpu().detach().numpy() # detach some extra info, and numpy makes a numpy array to plot\n"
   ]
  },
  {
   "cell_type": "code",
   "execution_count": 53,
   "id": "697dd2a4-6d7f-4bc2-a0e0-04ca1c91cdea",
   "metadata": {},
   "outputs": [
    {
     "name": "stderr",
     "output_type": "stream",
     "text": [
      "/tmp/ipykernel_3114391/3955138456.py:4: DeprecationWarning: __array_wrap__ must accept context and return_scalar arguments (positionally) in the future. (Deprecated NumPy 2.0)\n",
      "  x = A*np.sin(omega*t + phi)\n"
     ]
    },
    {
     "data": {
      "text/plain": [
       "<matplotlib.legend.Legend at 0x7edd4034ffd0>"
      ]
     },
     "execution_count": 53,
     "metadata": {},
     "output_type": "execute_result"
    },
    {
     "data": {
      "image/png": "[encoded data removed]",
      "text/plain": [
       "<Figure size 640x480 with 1 Axes>"
      ]
     },
     "metadata": {},
     "output_type": "display_data"
    }
   ],
   "source": [
    "m1 = 1; # mass\n",
    "k1 = 5; # spring constant\n",
    "A1 = 1; # amplitude\n",
    "phi1 = np.pi # initial phase\n",
    "\n",
    "an_sol = analytical_sol(m1, k1, A1, phi1, t)\n",
    "\n",
    "plt.figure()\n",
    "plt.plot(t, an_sol, label=\"analytical sol.\", lw=2)\n",
    "plt.plot(t, nn_sol, label=\"NN sol.\", lw=2, ls='--')\n",
    "plt.legend(loc='upper right')\n",
    "#plt.grid()\n",
    "#plt.xlim(t[0],t[-1])"
   ]
  },
  {
   "cell_type": "code",
   "execution_count": null,
   "id": "ed98d4b9-1004-42d7-9208-ffc42bce818d",
   "metadata": {},
   "outputs": [],
   "source": [
    "class ODE(torch.nn.Module):\n",
    "    def __init__(self):\n",
    "        super(ODE, self).__init__()\n",
    "        \n",
    "        self.lam = torch.nn.Parameter(torch.tensor(5.0, requires_grad = True))\n",
    "\n",
    "        self.net = torch.nn.Sequential(\n",
    "            torch.nn.Linear(1, 40),\n",
    "            torch.nn.GELU(),\n",
    "            torch.nn.Linear(40, 40),\n",
    "            torch.nn.GELU(),\n",
    "            torch.nn.Linear(40, 1),\n",
    "        )\n",
    "\n",
    "        for m in self.net.modules():\n",
    "            #print(m)\n",
    "            if isinstance(m, torch.nn.Linear):\n",
    "                print(m.in_features)\n",
    "                n = m.weight.size(1)\n",
    "                print(n)\n",
    "                torch.nn.init.normal_(m.weight, mean = 0, std = 0.1)\n",
    "                torch.nn.init.constant_(m.bias, val = 0.0)\n",
    "                \n",
    "    def forward(self, x):\n",
    "        return self.net(x) * x * (1 - x) "
   ]
  },
  {
   "cell_type": "code",
   "execution_count": null,
   "id": "f14d8ffd-d276-42c9-9329-9169ba737ff3",
   "metadata": {},
   "outputs": [],
   "source": [
    "ode = ODE()\n"
   ]
  },
  {
   "cell_type": "code",
   "execution_count": null,
   "id": "06f2b980-cc80-49b3-8b96-95b5be21666d",
   "metadata": {},
   "outputs": [],
   "source": []
  }
 ],
 "metadata": {
  "kernelspec": {
   "display_name": "Python 3 (ipykernel)",
   "language": "python",
   "name": "python3"
  },
  "language_info": {
   "codemirror_mode": {
    "name": "ipython",
    "version": 3
   },
   "file_extension": ".py",
   "mimetype": "text/x-python",
   "name": "python",
   "nbconvert_exporter": "python",
   "pygments_lexer": "ipython3",
   "version": "3.10.12"
  }
 },
 "nbformat": 4,
 "nbformat_minor": 5
}

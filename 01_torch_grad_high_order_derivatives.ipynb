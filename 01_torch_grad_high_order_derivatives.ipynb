{
 "cells": [
  {
   "cell_type": "code",
   "execution_count": 1,
   "metadata": {},
   "outputs": [],
   "source": [
    "import torch"
   ]
  },
  {
   "cell_type": "markdown",
   "metadata": {},
   "source": [
    "## One dimensional case"
   ]
  },
  {
   "cell_type": "markdown",
   "metadata": {},
   "source": [
    "**Definimos un vector compatible con pytorch**"
   ]
  },
  {
   "cell_type": "code",
   "execution_count": 2,
   "metadata": {},
   "outputs": [
    {
     "name": "stdout",
     "output_type": "stream",
     "text": [
      "x:  tensor([[1.],\n",
      "        [2.]], grad_fn=<ViewBackward0>)\n",
      "Obs: con 'requires_grad=True' indicamos que queremos calcular derivadas parciales c/r a esta variable\n"
     ]
    }
   ],
   "source": [
    "x = torch.tensor([1., 2.], requires_grad = True).view(-1,1)\n",
    "print('x: ',x)\n",
    "print('Obs: con \\'requires_grad=True\\' indicamos que queremos calcular derivadas parciales c/r a esta variable')"
   ]
  },
  {
   "cell_type": "markdown",
   "metadata": {},
   "source": [
    "**Definimos una función no lineal**\n",
    "\n",
    "$$f(x) = 2x^3 + 5x^2 + 8$$"
   ]
  },
  {
   "cell_type": "code",
   "execution_count": 3,
   "metadata": {},
   "outputs": [],
   "source": [
    "y = 2*x**3 + 5*x**2 + 8"
   ]
  },
  {
   "cell_type": "markdown",
   "metadata": {},
   "source": [
    "**Calculamos su primera derivada**\n",
    "\n",
    "$$\\frac{\\partial f (x)}{\\partial x}\\Bigr\\rvert_{x = [1,2]} = 6x^2 + 10x \\Bigr\\rvert_{x = [1,2]}$$"
   ]
  },
  {
   "cell_type": "code",
   "execution_count": 4,
   "metadata": {},
   "outputs": [
    {
     "name": "stdout",
     "output_type": "stream",
     "text": [
      "tensor([[16.],\n",
      "        [44.]], grad_fn=<AddBackward0>)\n"
     ]
    }
   ],
   "source": [
    "# dy/dx = 6*x**2 + 10*x\n",
    "first_derivative = torch.autograd.grad(y, x, \n",
    "                                       grad_outputs=torch.ones_like(y), \n",
    "                                       create_graph=True)[0]\n",
    "print(first_derivative)"
   ]
  },
  {
   "cell_type": "markdown",
   "metadata": {},
   "source": [
    "**Calculamos su segunda derivada**\n",
    "\n",
    "$$\\frac{\\partial^2 f (x)}{\\partial x^2}\\Bigr\\rvert_{x = [1,2]} = 12x + 10 \\Bigr\\rvert_{x = [1,2]}$$"
   ]
  },
  {
   "cell_type": "code",
   "execution_count": 5,
   "metadata": {},
   "outputs": [
    {
     "name": "stdout",
     "output_type": "stream",
     "text": [
      "tensor([[22.],\n",
      "        [34.]])\n"
     ]
    }
   ],
   "source": [
    "# d(dy/dx)/dx = 12*x + 10\n",
    "second_derivative = torch.autograd.grad(first_derivative, x,  \n",
    "                                        grad_outputs=torch.ones_like(y))[0]\n",
    "print(second_derivative)"
   ]
  },
  {
   "cell_type": "markdown",
   "metadata": {},
   "source": [
    "## Two dimensional case"
   ]
  },
  {
   "cell_type": "code",
   "execution_count": 6,
   "metadata": {},
   "outputs": [],
   "source": [
    "x = torch.tensor([1., 2.], requires_grad = True).view(-1,1)\n",
    "t = torch.tensor([.1, .2], requires_grad = True).view(-1,1)"
   ]
  },
  {
   "cell_type": "code",
   "execution_count": 7,
   "metadata": {},
   "outputs": [],
   "source": [
    "u = 2*x**2 + 5*x*t + t**2 + 5."
   ]
  },
  {
   "cell_type": "code",
   "execution_count": 8,
   "metadata": {},
   "outputs": [
    {
     "name": "stdout",
     "output_type": "stream",
     "text": [
      "tensor([[4.5000],\n",
      "        [9.0000]], grad_fn=<AddBackward0>)\n"
     ]
    }
   ],
   "source": [
    "# dy/dx = 4*x + 5*t\n",
    "first_derivative = torch.autograd.grad(u, x, \n",
    "                                       grad_outputs=torch.ones_like(y), \n",
    "                                       create_graph=True)[0]\n",
    "print(first_derivative)"
   ]
  },
  {
   "cell_type": "code",
   "execution_count": 9,
   "metadata": {},
   "outputs": [
    {
     "name": "stdout",
     "output_type": "stream",
     "text": [
      "tensor([[4.],\n",
      "        [4.]])\n"
     ]
    }
   ],
   "source": [
    "# d(dy/dx)/dx = 4\n",
    "second_derivative = torch.autograd.grad(first_derivative, x,  \n",
    "                                        grad_outputs=torch.ones_like(y))[0]\n",
    "print(second_derivative)"
   ]
  },
  {
   "cell_type": "code",
   "execution_count": null,
   "metadata": {},
   "outputs": [],
   "source": []
  }
 ],
 "metadata": {
  "kernelspec": {
   "display_name": "torch-env-win",
   "language": "python",
   "name": "torch-env-win"
  },
  "language_info": {
   "codemirror_mode": {
    "name": "ipython",
    "version": 3
   },
   "file_extension": ".py",
   "mimetype": "text/x-python",
   "name": "python",
   "nbconvert_exporter": "python",
   "pygments_lexer": "ipython3",
   "version": "3.9.12"
  }
 },
 "nbformat": 4,
 "nbformat_minor": 4
}

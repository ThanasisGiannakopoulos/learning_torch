{
 "cells": [
  {
   "cell_type": "code",
   "execution_count": 1,
   "id": "2295491f",
   "metadata": {},
   "outputs": [],
   "source": [
    "import torch\n",
    "import torch.nn as nn\n",
    "import torch.optim as optim\n",
    "from matplotlib import pyplot as plt"
   ]
  },
  {
   "cell_type": "code",
   "execution_count": 8,
   "id": "9458776f",
   "metadata": {},
   "outputs": [],
   "source": [
    "class Model(torch.nn.Module):\n",
    "    def __init__(self) -> None:\n",
    "        super(Model,self).__init__()\n",
    "        self.layer01 = torch.nn.Linear(2,1)\n",
    "    \n",
    "    def forward(self,x):\n",
    "        inputs = x\n",
    "        output = torch.pow(self.layer01(inputs),2)\n",
    "        return output"
   ]
  },
  {
   "cell_type": "markdown",
   "id": "1bed2f02",
   "metadata": {},
   "source": [
    "$m(x,y) = (ax + by + c)^2$\n",
    "\n",
    "$m_{xx}(x,y) = 2a^2$"
   ]
  },
  {
   "cell_type": "code",
   "execution_count": 18,
   "id": "32b9b96a",
   "metadata": {},
   "outputs": [],
   "source": [
    "a = 1.\n",
    "b = 2.\n",
    "c = 3.\n",
    "model = Model()\n",
    "model.state_dict()['layer01.weight'][:] = torch.tensor([[a, b]])\n",
    "model.state_dict()['layer01.bias'][:] = torch.tensor([c])"
   ]
  },
  {
   "cell_type": "code",
   "execution_count": 19,
   "id": "04c32828",
   "metadata": {},
   "outputs": [
    {
     "data": {
      "text/plain": [
       "OrderedDict([('layer01.weight', tensor([[1., 2.]])),\n",
       "             ('layer01.bias', tensor([3.]))])"
      ]
     },
     "execution_count": 19,
     "metadata": {},
     "output_type": "execute_result"
    }
   ],
   "source": [
    "model.state_dict()"
   ]
  },
  {
   "cell_type": "code",
   "execution_count": 40,
   "id": "12b51522",
   "metadata": {},
   "outputs": [],
   "source": [
    "x = torch.tensor([[1.0, 0.1],[1.0, 0.1]], requires_grad=True)\n",
    "u = model(x)"
   ]
  },
  {
   "cell_type": "markdown",
   "id": "c610b36e",
   "metadata": {},
   "source": [
    "$m_x(x,y) = 2a(ax + by + c)$"
   ]
  },
  {
   "cell_type": "code",
   "execution_count": 41,
   "id": "86b35a8c",
   "metadata": {},
   "outputs": [
    {
     "name": "stdout",
     "output_type": "stream",
     "text": [
      "u_x: tensor(8.4000, grad_fn=<MulBackward0>)\n"
     ]
    }
   ],
   "source": [
    "print('u_x:',2*a*(a*x[0][0] + b*x[0][1] + c))"
   ]
  },
  {
   "cell_type": "markdown",
   "id": "e78a9fab",
   "metadata": {},
   "source": [
    "$m_y(x,y) = 2b(ax + by + c)$"
   ]
  },
  {
   "cell_type": "code",
   "execution_count": 42,
   "id": "985e662e",
   "metadata": {},
   "outputs": [
    {
     "name": "stdout",
     "output_type": "stream",
     "text": [
      "u_y: tensor(16.8000, grad_fn=<MulBackward0>)\n"
     ]
    }
   ],
   "source": [
    "print('u_y:',2*b*(a*x[0][0] + b*x[0][1] + c))"
   ]
  },
  {
   "cell_type": "code",
   "execution_count": 66,
   "id": "9d2aef18",
   "metadata": {},
   "outputs": [
    {
     "name": "stdout",
     "output_type": "stream",
     "text": [
      "u_x, u_y: tensor([[ 8.4000, 16.8000],\n",
      "        [ 8.4000, 16.8000]], grad_fn=<MmBackward0>)\n"
     ]
    }
   ],
   "source": [
    "# Compute derivatives\n",
    "u_x = torch.autograd.grad(outputs=u, inputs=x, create_graph=True,\n",
    "                          grad_outputs=torch.ones_like(u))[0]\n",
    "print('u_x, u_y:',u_x)"
   ]
  },
  {
   "cell_type": "markdown",
   "id": "4bf6f5c3",
   "metadata": {},
   "source": [
    "$m_{xx}(x,y) = 2a^2$"
   ]
  },
  {
   "cell_type": "code",
   "execution_count": 44,
   "id": "a4a610af",
   "metadata": {},
   "outputs": [
    {
     "name": "stdout",
     "output_type": "stream",
     "text": [
      "u_xx: 2.0\n"
     ]
    }
   ],
   "source": [
    "print('u_xx:',2*a**2)"
   ]
  },
  {
   "cell_type": "markdown",
   "id": "69979d0c",
   "metadata": {},
   "source": [
    "$m_{yy}(x,y) = 2b^2$"
   ]
  },
  {
   "cell_type": "code",
   "execution_count": 45,
   "id": "fd073270",
   "metadata": {},
   "outputs": [
    {
     "name": "stdout",
     "output_type": "stream",
     "text": [
      "u_xx: 8.0\n"
     ]
    }
   ],
   "source": [
    "print('u_xx:',2*b**2)"
   ]
  },
  {
   "cell_type": "code",
   "execution_count": 64,
   "id": "06673785",
   "metadata": {},
   "outputs": [
    {
     "name": "stdout",
     "output_type": "stream",
     "text": [
      "u_xx: tensor([[2.],\n",
      "        [2.]], grad_fn=<ViewBackward0>)\n"
     ]
    }
   ],
   "source": [
    "u_xx = torch.autograd.grad(outputs=u_x[:,0], inputs=x, create_graph=True,\n",
    "                                   grad_outputs=torch.ones_like(u_x[:,0]))[0]\n",
    "print('u_xx:',u_xx[:,0].view(-1,1))"
   ]
  },
  {
   "cell_type": "code",
   "execution_count": 65,
   "id": "51e23353",
   "metadata": {},
   "outputs": [
    {
     "name": "stdout",
     "output_type": "stream",
     "text": [
      "u_yy: tensor([[8.],\n",
      "        [8.]], grad_fn=<ViewBackward0>)\n"
     ]
    }
   ],
   "source": [
    "u_yy = torch.autograd.grad(outputs=u_x[:,1], inputs=x, create_graph=True,\n",
    "                                   grad_outputs=torch.ones_like(u_x[:,1]))[0]\n",
    "print('u_yy:',u_yy[:,1].view(-1,1))"
   ]
  },
  {
   "cell_type": "code",
   "execution_count": null,
   "id": "568a7e7b",
   "metadata": {},
   "outputs": [],
   "source": []
  }
 ],
 "metadata": {
  "kernelspec": {
   "display_name": "torch-sklearn-env-win",
   "language": "python",
   "name": "torch-sklearn-env-win"
  },
  "language_info": {
   "codemirror_mode": {
    "name": "ipython",
    "version": 3
   },
   "file_extension": ".py",
   "mimetype": "text/x-python",
   "name": "python",
   "nbconvert_exporter": "python",
   "pygments_lexer": "ipython3",
   "version": "3.9.12"
  }
 },
 "nbformat": 4,
 "nbformat_minor": 5
}

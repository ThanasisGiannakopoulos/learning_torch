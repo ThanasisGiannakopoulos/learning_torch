{
 "cells": [
  {
   "cell_type": "code",
   "execution_count": 1,
   "id": "2295491f",
   "metadata": {},
   "outputs": [],
   "source": [
    "import torch\n",
    "import torch.nn as nn\n",
    "import torch.optim as optim\n",
    "from matplotlib import pyplot as plt"
   ]
  },
  {
   "cell_type": "code",
   "execution_count": 2,
   "id": "03bc1711",
   "metadata": {},
   "outputs": [],
   "source": [
    "# Modify the PINN class to accept a different number of nodes in each the hidden layers\n",
    "class PINN(nn.Module):\n",
    "    def __init__(self, input_size, hidden_sizes, output_size, act=nn.ReLU()):\n",
    "        super(PINN, self).__init__()\n",
    "        \n",
    "        self.layers = nn.ModuleList()\n",
    "        layer_sizes = [input_size] + hidden_sizes + [output_size]\n",
    "\n",
    "        for i in range(len(layer_sizes) - 1):\n",
    "            self.layers.append(nn.Linear(layer_sizes[i], layer_sizes[i+1]))\n",
    "\n",
    "        self.activation = act\n",
    "\n",
    "    def forward(self, x):\n",
    "        for layer in self.layers[:-1]:\n",
    "            x = self.activation(layer(x))\n",
    "        output = self.layers[-1](x)\n",
    "        return output"
   ]
  },
  {
   "cell_type": "code",
   "execution_count": 3,
   "id": "b3cec17a",
   "metadata": {},
   "outputs": [],
   "source": [
    "def random_domain_points(n):\n",
    "    x = torch.rand(n, 2, requires_grad=True)\n",
    "    return x"
   ]
  },
  {
   "cell_type": "code",
   "execution_count": 5,
   "id": "619aedf5",
   "metadata": {},
   "outputs": [
    {
     "name": "stdout",
     "output_type": "stream",
     "text": [
      "CUDA is not available. Using CPU.\n"
     ]
    }
   ],
   "source": [
    "if torch.cuda.is_available():\n",
    "    device = torch.device(\"cuda\")\n",
    "    print('device:', device)\n",
    "else:\n",
    "    device = torch.device(\"cpu\")\n",
    "    print('CUDA is not available. Using CPU.')"
   ]
  },
  {
   "cell_type": "code",
   "execution_count": 6,
   "id": "543cd9c4",
   "metadata": {},
   "outputs": [],
   "source": [
    "# Print the PINN architecture\n",
    "pinn = PINN(2, [10, 50, 50, 50, 10], 1, act=torch.nn.Sigmoid()).to(device)\n",
    "\n",
    "learning_rate = 0.01\n",
    "optimizer = optim.Adam(pinn.parameters(), lr=learning_rate)\n",
    "\n",
    "epochs = int(1e3)\n",
    "convergence_data = torch.empty((epochs), device=device)\n",
    "\n",
    "gamma1 = 100.\n",
    "loss_list = []"
   ]
  },
  {
   "cell_type": "code",
   "execution_count": 7,
   "id": "73e780fc",
   "metadata": {},
   "outputs": [],
   "source": [
    "x = random_domain_points(5).to(device)\n",
    "u = pinn(x)"
   ]
  },
  {
   "cell_type": "code",
   "execution_count": 13,
   "id": "9c18f9ff",
   "metadata": {},
   "outputs": [],
   "source": [
    "linear_mod = nn.Sequential(\n",
    "                nn.Linear(2,1))"
   ]
  },
  {
   "cell_type": "code",
   "execution_count": 21,
   "id": "9458776f",
   "metadata": {},
   "outputs": [],
   "source": [
    "class Model(torch.nn.Module):\n",
    "    def __init__(self) -> None:\n",
    "        super(Model,self).__init__()\n",
    "        self.layer01 = torch.nn.Linear(2,1)\n",
    "    \n",
    "    def forward(self,x):\n",
    "        inputs = x\n",
    "        output = torch.pow(self.layer01(inputs),2)\n",
    "        return output"
   ]
  },
  {
   "cell_type": "markdown",
   "id": "1bed2f02",
   "metadata": {},
   "source": [
    "$m(x,y) = (ax + by + c)^2$\n",
    "\n",
    "$m_{xx}(x,y) = 2a^2$"
   ]
  },
  {
   "cell_type": "code",
   "execution_count": 32,
   "id": "32b9b96a",
   "metadata": {},
   "outputs": [
    {
     "data": {
      "text/plain": [
       "OrderedDict([('layer01.weight', tensor([[0.1577, 0.1394]])),\n",
       "             ('layer01.bias', tensor([-0.1154]))])"
      ]
     },
     "execution_count": 32,
     "metadata": {},
     "output_type": "execute_result"
    }
   ],
   "source": [
    "model = Model()\n",
    "model.state_dict()"
   ]
  },
  {
   "cell_type": "code",
   "execution_count": 45,
   "id": "12b51522",
   "metadata": {},
   "outputs": [],
   "source": [
    "x = torch.tensor([[1.0, 0.1]], requires_grad=True)\n",
    "u = model(x)"
   ]
  },
  {
   "cell_type": "markdown",
   "id": "c610b36e",
   "metadata": {},
   "source": [
    "$m_x(x,y) = 2a(ax + by + c)$"
   ]
  },
  {
   "cell_type": "code",
   "execution_count": 46,
   "id": "9d2aef18",
   "metadata": {},
   "outputs": [],
   "source": [
    "# Compute derivatives\n",
    "u_x = torch.autograd.grad(outputs=u, inputs=x, create_graph=True,\n",
    "                          grad_outputs=torch.ones_like(u))[0]"
   ]
  },
  {
   "cell_type": "code",
   "execution_count": 47,
   "id": "c1bab9ef",
   "metadata": {},
   "outputs": [
    {
     "data": {
      "text/plain": [
       "0.057308180000000014"
      ]
     },
     "execution_count": 47,
     "metadata": {},
     "output_type": "execute_result"
    }
   ],
   "source": [
    "2*0.1577*(0.1577 + 0.1394 -0.1154)"
   ]
  },
  {
   "cell_type": "code",
   "execution_count": 49,
   "id": "0d6c0084",
   "metadata": {},
   "outputs": [
    {
     "data": {
      "text/plain": [
       "0.015679712000000002"
      ]
     },
     "execution_count": 49,
     "metadata": {},
     "output_type": "execute_result"
    }
   ],
   "source": [
    "2*0.1394*(0.1577 + 0.1394*0.1 -0.1154)"
   ]
  },
  {
   "cell_type": "code",
   "execution_count": 48,
   "id": "53199247",
   "metadata": {},
   "outputs": [
    {
     "data": {
      "text/plain": [
       "tensor([[0.0178, 0.0157]], grad_fn=<MmBackward0>)"
      ]
     },
     "execution_count": 48,
     "metadata": {},
     "output_type": "execute_result"
    }
   ],
   "source": [
    "u_x"
   ]
  },
  {
   "cell_type": "code",
   "execution_count": 52,
   "id": "06673785",
   "metadata": {},
   "outputs": [],
   "source": [
    "u_xx = torch.autograd.grad(outputs=u_x, inputs=x, create_graph=True,\n",
    "                                   grad_outputs=torch.ones_like(u_x))[0]"
   ]
  },
  {
   "cell_type": "code",
   "execution_count": 53,
   "id": "0961ad8a",
   "metadata": {},
   "outputs": [
    {
     "data": {
      "text/plain": [
       "tensor([[0.0937, 0.0829]], grad_fn=<MmBackward0>)"
      ]
     },
     "execution_count": 53,
     "metadata": {},
     "output_type": "execute_result"
    }
   ],
   "source": [
    "u_xx"
   ]
  },
  {
   "cell_type": "code",
   "execution_count": 38,
   "id": "12f49232",
   "metadata": {},
   "outputs": [
    {
     "data": {
      "text/plain": [
       "0.049738580000000004"
      ]
     },
     "execution_count": 38,
     "metadata": {},
     "output_type": "execute_result"
    }
   ],
   "source": [
    "2*(0.1577)**2"
   ]
  },
  {
   "cell_type": "code",
   "execution_count": null,
   "id": "51e23353",
   "metadata": {},
   "outputs": [],
   "source": []
  }
 ],
 "metadata": {
  "kernelspec": {
   "display_name": "torch-sklearn-env-win",
   "language": "python",
   "name": "torch-sklearn-env-win"
  },
  "language_info": {
   "codemirror_mode": {
    "name": "ipython",
    "version": 3
   },
   "file_extension": ".py",
   "mimetype": "text/x-python",
   "name": "python",
   "nbconvert_exporter": "python",
   "pygments_lexer": "ipython3",
   "version": "3.9.12"
  }
 },
 "nbformat": 4,
 "nbformat_minor": 5
}
